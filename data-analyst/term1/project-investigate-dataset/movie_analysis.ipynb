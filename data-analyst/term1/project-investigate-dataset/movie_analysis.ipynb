{
 "cells": [
  {
   "cell_type": "markdown",
   "metadata": {},
   "source": [
    "# Project: Investigate high \n",
    "\n",
    "## Table of Contents\n",
    "<ul>\n",
    "<li><a href=\"#intro\">Introduction</a></li>\n",
    "<li><a href=\"#wrangling\">Data Wrangling</a></li>\n",
    "<li><a href=\"#eda\">Exploratory Data Analysis</a></li>\n",
    "<li><a href=\"#conclusions\">Conclusions</a></li>\n",
    "</ul>"
   ]
  },
  {
   "cell_type": "markdown",
   "metadata": {},
   "source": [
    "<a id='intro'></a>\n",
    "## Introduction\n",
    "\n",
    "> This dataset contains information about 10,000 movies collected from The Movie Database (TMDb). The dataset includes information such as genres, budget, revenue, etc. This analysis will take a look at what movie charactertics are most commonly associated with a high return on investment (revenue/budget both adjusted for inflation). More specifically, it will investigate the relationship between a movie's genre, vote_average, and budget on ROI. "
   ]
  },
  {
   "cell_type": "code",
   "execution_count": 25,
   "metadata": {},
   "outputs": [],
   "source": [
    "import pandas as pd\n",
    "import matplotlib.pyplot as plt\n",
    "import numpy as np\n",
    "% matplotlib inline"
   ]
  },
  {
   "cell_type": "markdown",
   "metadata": {},
   "source": [
    "<a id='wrangling'></a>\n",
    "## Data Wrangling\n",
    "\n",
    "> In this section we'll load & inspect our data and determine what (if any) cleaning needs to be applied.\n",
    "\n",
    "### General Properties"
   ]
  },
  {
   "cell_type": "code",
   "execution_count": 26,
   "metadata": {},
   "outputs": [],
   "source": [
    "#limits the import to just the columns that we're interested in exploring\n",
    "df = pd.read_csv(\"movies.csv\", usecols=[\"genres\", \"vote_average\", \"budget_adj\", \"revenue_adj\"])"
   ]
  },
  {
   "cell_type": "code",
   "execution_count": 27,
   "metadata": {},
   "outputs": [
    {
     "data": {
      "text/plain": [
       "(10866, 4)"
      ]
     },
     "execution_count": 27,
     "metadata": {},
     "output_type": "execute_result"
    }
   ],
   "source": [
    "df.shape"
   ]
  },
  {
   "cell_type": "code",
   "execution_count": 28,
   "metadata": {},
   "outputs": [
    {
     "data": {
      "text/html": [
       "<div>\n",
       "<style scoped>\n",
       "    .dataframe tbody tr th:only-of-type {\n",
       "        vertical-align: middle;\n",
       "    }\n",
       "\n",
       "    .dataframe tbody tr th {\n",
       "        vertical-align: top;\n",
       "    }\n",
       "\n",
       "    .dataframe thead th {\n",
       "        text-align: right;\n",
       "    }\n",
       "</style>\n",
       "<table border=\"1\" class=\"dataframe\">\n",
       "  <thead>\n",
       "    <tr style=\"text-align: right;\">\n",
       "      <th></th>\n",
       "      <th>genres</th>\n",
       "      <th>vote_average</th>\n",
       "      <th>budget_adj</th>\n",
       "      <th>revenue_adj</th>\n",
       "    </tr>\n",
       "  </thead>\n",
       "  <tbody>\n",
       "    <tr>\n",
       "      <th>0</th>\n",
       "      <td>Action|Adventure|Science Fiction|Thriller</td>\n",
       "      <td>6.5</td>\n",
       "      <td>1.379999e+08</td>\n",
       "      <td>1.392446e+09</td>\n",
       "    </tr>\n",
       "    <tr>\n",
       "      <th>1</th>\n",
       "      <td>Action|Adventure|Science Fiction|Thriller</td>\n",
       "      <td>7.1</td>\n",
       "      <td>1.379999e+08</td>\n",
       "      <td>3.481613e+08</td>\n",
       "    </tr>\n",
       "    <tr>\n",
       "      <th>2</th>\n",
       "      <td>Adventure|Science Fiction|Thriller</td>\n",
       "      <td>6.3</td>\n",
       "      <td>1.012000e+08</td>\n",
       "      <td>2.716190e+08</td>\n",
       "    </tr>\n",
       "    <tr>\n",
       "      <th>3</th>\n",
       "      <td>Action|Adventure|Science Fiction|Fantasy</td>\n",
       "      <td>7.5</td>\n",
       "      <td>1.839999e+08</td>\n",
       "      <td>1.902723e+09</td>\n",
       "    </tr>\n",
       "    <tr>\n",
       "      <th>4</th>\n",
       "      <td>Action|Crime|Thriller</td>\n",
       "      <td>7.3</td>\n",
       "      <td>1.747999e+08</td>\n",
       "      <td>1.385749e+09</td>\n",
       "    </tr>\n",
       "  </tbody>\n",
       "</table>\n",
       "</div>"
      ],
      "text/plain": [
       "                                      genres  vote_average    budget_adj  \\\n",
       "0  Action|Adventure|Science Fiction|Thriller           6.5  1.379999e+08   \n",
       "1  Action|Adventure|Science Fiction|Thriller           7.1  1.379999e+08   \n",
       "2         Adventure|Science Fiction|Thriller           6.3  1.012000e+08   \n",
       "3   Action|Adventure|Science Fiction|Fantasy           7.5  1.839999e+08   \n",
       "4                      Action|Crime|Thriller           7.3  1.747999e+08   \n",
       "\n",
       "    revenue_adj  \n",
       "0  1.392446e+09  \n",
       "1  3.481613e+08  \n",
       "2  2.716190e+08  \n",
       "3  1.902723e+09  \n",
       "4  1.385749e+09  "
      ]
     },
     "execution_count": 28,
     "metadata": {},
     "output_type": "execute_result"
    }
   ],
   "source": [
    "#The genres are separated by a | that will need to be cleaned later for proper analysis\n",
    "df.head()"
   ]
  },
  {
   "cell_type": "code",
   "execution_count": 29,
   "metadata": {},
   "outputs": [
    {
     "data": {
      "text/plain": [
       "1646"
      ]
     },
     "execution_count": 29,
     "metadata": {},
     "output_type": "execute_result"
    }
   ],
   "source": [
    "#193 duplicates\n",
    "sum(df.duplicated())"
   ]
  },
  {
   "cell_type": "code",
   "execution_count": 30,
   "metadata": {},
   "outputs": [
    {
     "data": {
      "text/plain": [
       "genres          23\n",
       "vote_average     0\n",
       "budget_adj       0\n",
       "revenue_adj      0\n",
       "dtype: int64"
      ]
     },
     "execution_count": 30,
     "metadata": {},
     "output_type": "execute_result"
    }
   ],
   "source": [
    "#23 null genres, 1030 null production companies. \n",
    "df.isnull().sum()"
   ]
  },
  {
   "cell_type": "code",
   "execution_count": 31,
   "metadata": {},
   "outputs": [
    {
     "data": {
      "text/plain": [
       "genres          6988\n",
       "vote_average    7011\n",
       "budget_adj      7011\n",
       "revenue_adj     7011\n",
       "dtype: int64"
      ]
     },
     "execution_count": 31,
     "metadata": {},
     "output_type": "execute_result"
    }
   ],
   "source": [
    "#~7,0000 records have a budget or revenue value of $0. We're going to assume that a $0 value\n",
    "#means that the data is missing\n",
    "df.query('budget_adj == 0 or revenue_adj == 0').count()"
   ]
  },
  {
   "cell_type": "code",
   "execution_count": 32,
   "metadata": {},
   "outputs": [
    {
     "data": {
      "text/plain": [
       "genres           object\n",
       "vote_average    float64\n",
       "budget_adj      float64\n",
       "revenue_adj     float64\n",
       "dtype: object"
      ]
     },
     "execution_count": 32,
     "metadata": {},
     "output_type": "execute_result"
    }
   ],
   "source": [
    "#All columns have the correct types for this analysis\n",
    "df.dtypes"
   ]
  },
  {
   "cell_type": "markdown",
   "metadata": {},
   "source": [
    "### Data Cleaning\n",
    "> From our exploration above, we've discovered three different modifications that need to be made to our dataset.\n",
    "1. Drop all our all duplicate rows \n",
    "2. Drop rows with null values\n",
    "3. Drop rows with zero dollar budgets or revenue (which we're going to assume means its missing)\n",
    "4. Create new dataframes for breaking out the genre and production companies "
   ]
  },
  {
   "cell_type": "code",
   "execution_count": 33,
   "metadata": {},
   "outputs": [],
   "source": [
    "# Addresses (1) & (2) & (3)\n",
    "df.drop_duplicates(inplace=True)\n",
    "df.dropna(axis = 0, inplace=True)\n",
    "df = df.query('budget_adj != 0 and revenue_adj != 0')"
   ]
  },
  {
   "cell_type": "code",
   "execution_count": 34,
   "metadata": {},
   "outputs": [],
   "source": [
    "# Addresses (4) by creating two new dataframes that split out the genre values\n",
    "\n",
    "# credit for the below two functions: https://gist.github.com/jlln/338b4b0b55bd6984f883\n",
    "def splitDataFrameList(df,target_column,separator):\n",
    "    new_rows = []\n",
    "    df.apply(splitListToRows,axis=1,args = (new_rows,target_column,separator))\n",
    "    new_df = pd.DataFrame(new_rows)\n",
    "    return new_df\n",
    "\n",
    "def splitListToRows(row,row_accumulator,target_column,separator):\n",
    "    split_row = row[target_column].split(separator)\n",
    "    for s in split_row:\n",
    "        new_row = row.to_dict()\n",
    "        new_row[target_column] = s\n",
    "        row_accumulator.append(new_row)\n",
    "\n",
    "df_genres = splitDataFrameList(df, 'genres', '|')"
   ]
  },
  {
   "cell_type": "code",
   "execution_count": 35,
   "metadata": {},
   "outputs": [],
   "source": [
    "#remove unncessary columns from dataframes\n",
    "df.drop(['genres'], axis=1, inplace=True)\n",
    "df_genres.drop(['vote_average'], axis=1, inplace=True)"
   ]
  },
  {
   "cell_type": "code",
   "execution_count": 36,
   "metadata": {},
   "outputs": [
    {
     "data": {
      "text/html": [
       "<div>\n",
       "<style scoped>\n",
       "    .dataframe tbody tr th:only-of-type {\n",
       "        vertical-align: middle;\n",
       "    }\n",
       "\n",
       "    .dataframe tbody tr th {\n",
       "        vertical-align: top;\n",
       "    }\n",
       "\n",
       "    .dataframe thead th {\n",
       "        text-align: right;\n",
       "    }\n",
       "</style>\n",
       "<table border=\"1\" class=\"dataframe\">\n",
       "  <thead>\n",
       "    <tr style=\"text-align: right;\">\n",
       "      <th></th>\n",
       "      <th>budget_adj</th>\n",
       "      <th>genres</th>\n",
       "      <th>revenue_adj</th>\n",
       "    </tr>\n",
       "  </thead>\n",
       "  <tbody>\n",
       "    <tr>\n",
       "      <th>0</th>\n",
       "      <td>1.379999e+08</td>\n",
       "      <td>Action</td>\n",
       "      <td>1.392446e+09</td>\n",
       "    </tr>\n",
       "    <tr>\n",
       "      <th>1</th>\n",
       "      <td>1.379999e+08</td>\n",
       "      <td>Adventure</td>\n",
       "      <td>1.392446e+09</td>\n",
       "    </tr>\n",
       "    <tr>\n",
       "      <th>2</th>\n",
       "      <td>1.379999e+08</td>\n",
       "      <td>Science Fiction</td>\n",
       "      <td>1.392446e+09</td>\n",
       "    </tr>\n",
       "    <tr>\n",
       "      <th>3</th>\n",
       "      <td>1.379999e+08</td>\n",
       "      <td>Thriller</td>\n",
       "      <td>1.392446e+09</td>\n",
       "    </tr>\n",
       "    <tr>\n",
       "      <th>4</th>\n",
       "      <td>1.379999e+08</td>\n",
       "      <td>Action</td>\n",
       "      <td>3.481613e+08</td>\n",
       "    </tr>\n",
       "  </tbody>\n",
       "</table>\n",
       "</div>"
      ],
      "text/plain": [
       "     budget_adj           genres   revenue_adj\n",
       "0  1.379999e+08           Action  1.392446e+09\n",
       "1  1.379999e+08        Adventure  1.392446e+09\n",
       "2  1.379999e+08  Science Fiction  1.392446e+09\n",
       "3  1.379999e+08         Thriller  1.392446e+09\n",
       "4  1.379999e+08           Action  3.481613e+08"
      ]
     },
     "execution_count": 36,
     "metadata": {},
     "output_type": "execute_result"
    }
   ],
   "source": [
    "df_genres.head()"
   ]
  },
  {
   "cell_type": "markdown",
   "metadata": {},
   "source": [
    "<a id='eda'></a>\n",
    "## Exploratory Data Analysis\n",
    "\n",
    "\n",
    "### Which genres have the highest roi?"
   ]
  },
  {
   "cell_type": "code",
   "execution_count": 37,
   "metadata": {},
   "outputs": [
    {
     "data": {
      "text/plain": [
       "genres\n",
       "Action             1085\n",
       "Adventure           749\n",
       "Animation           201\n",
       "Comedy             1358\n",
       "Crime               651\n",
       "Documentary          35\n",
       "Drama              1756\n",
       "Family              425\n",
       "Fantasy             396\n",
       "Foreign              13\n",
       "History             129\n",
       "Horror              463\n",
       "Music               136\n",
       "Mystery             344\n",
       "Romance             667\n",
       "Science Fiction     519\n",
       "TV Movie              1\n",
       "Thriller           1204\n",
       "War                 119\n",
       "Western              52\n",
       "Name: revenue_adj, dtype: int64"
      ]
     },
     "execution_count": 37,
     "metadata": {},
     "output_type": "execute_result"
    }
   ],
   "source": [
    "#Check sample size\n",
    "df_genres.groupby(['genres']).count()['revenue_adj']"
   ]
  },
  {
   "cell_type": "code",
   "execution_count": 38,
   "metadata": {},
   "outputs": [],
   "source": [
    "#Drop TV movie & foreign genres to due to smaller sample size. I chose 25 as the somewhat arbitrary cutoff\n",
    "df_genres = df_genres.query('genres != \"TV Movie\" and genres != \"Foreign\"')"
   ]
  },
  {
   "cell_type": "code",
   "execution_count": 39,
   "metadata": {},
   "outputs": [
    {
     "data": {
      "text/plain": [
       "Text(0.5,0,'ROI')"
      ]
     },
     "execution_count": 39,
     "metadata": {},
     "output_type": "execute_result"
    },
    {
     "data": {
      "image/png": "[encoded data removed]",
      "text/plain": [
       "<Figure size 432x288 with 1 Axes>"
      ]
     },
     "metadata": {
      "needs_background": "light"
     },
     "output_type": "display_data"
    }
   ],
   "source": [
    "df_genres_roi = df_genres.groupby(['genres']).sum()['revenue_adj']/df_genres.groupby(['genres']).sum()['budget_adj']\n",
    "df_genres_roi.sort_values().plot.barh()\n",
    "plt.title('ROI by movie genre')\n",
    "plt.ylabel(\"Genre\")\n",
    "plt.xlabel(\"ROI\")"
   ]
  },
  {
   "cell_type": "markdown",
   "metadata": {},
   "source": [
    "The above chart plots movie ROI adjusted for inflation by movie genres. It shows that there appears to be some differnece in ROI based on different movie genres with documentaries having the highest ROI and westerns have the lowest ROI."
   ]
  },
  {
   "cell_type": "markdown",
   "metadata": {},
   "source": [
    "### What relationship does a movie's budget size have on ROI?"
   ]
  },
  {
   "cell_type": "code",
   "execution_count": 49,
   "metadata": {},
   "outputs": [
    {
     "data": {
      "text/plain": [
       "Text(0.5,0,'# of Movies')"
      ]
     },
     "execution_count": 49,
     "metadata": {},
     "output_type": "execute_result"
    },
    {
     "data": {
      "image/png": "[encoded data removed]",
      "text/plain": [
       "<Figure size 432x288 with 1 Axes>"
      ]
     },
     "metadata": {
      "needs_background": "light"
     },
     "output_type": "display_data"
    }
   ],
   "source": [
    "df['budget_adj'].hist()\n",
    "plt.title('Distribution of movie budgets adjusted')\n",
    "plt.ylabel(\"Budget Adjusted for Inflation\")\n",
    "plt.xlabel(\"# of Movies\")"
   ]
  },
  {
   "cell_type": "markdown",
   "metadata": {},
   "source": [
    "The above chart plots the distribution of movie budgets adjusted for inflation. Most movies have a budget under 50 million. A lot of movies have a budget in the 50 million - 100 million range and a much smaller number of movies have massive budgets in the 100+ million range."
   ]
  },
  {
   "cell_type": "code",
   "execution_count": 41,
   "metadata": {},
   "outputs": [
    {
     "data": {
      "text/plain": [
       "Text(0.5,0,'# of Movies')"
      ]
     },
     "execution_count": 41,
     "metadata": {},
     "output_type": "execute_result"
    },
    {
     "data": {
      "image/png": "[encoded data removed]",
      "text/plain": [
       "<Figure size 432x288 with 1 Axes>"
      ]
     },
     "metadata": {
      "needs_background": "light"
     },
     "output_type": "display_data"
    }
   ],
   "source": [
    "df['revenue_adj'].hist()\n",
    "plt.title('Distribution of movie revenue adjusted')\n",
    "plt.ylabel(\"Revenue Adjusted for Inflation\")\n",
    "plt.xlabel(\"# of Movies\")"
   ]
  },
  {
   "cell_type": "markdown",
   "metadata": {},
   "source": [
    "The above chart plots the distribution of movie revenue adjusted for inflation. Most movies have revenue under 250 million. Very few movies break 1 billion in revenue and non movie has topped 1.5 billion in revenue adjusted for inflation."
   ]
  },
  {
   "cell_type": "code",
   "execution_count": 42,
   "metadata": {},
   "outputs": [],
   "source": [
    "df['roi'] = df['revenue_adj']/df['budget_adj']"
   ]
  },
  {
   "cell_type": "code",
   "execution_count": 43,
   "metadata": {},
   "outputs": [
    {
     "data": {
      "text/plain": [
       "Text(0.5,0,'Budget Adjusted for Inflation')"
      ]
     },
     "execution_count": 43,
     "metadata": {},
     "output_type": "execute_result"
    },
    {
     "data": {
      "image/png": "[encoded data removed]",
      "text/plain": [
       "<Figure size 432x288 with 1 Axes>"
      ]
     },
     "metadata": {
      "needs_background": "light"
     },
     "output_type": "display_data"
    }
   ],
   "source": [
    "#Plot initial dataset\n",
    "df.plot(x='budget_adj', y='roi', kind='scatter')\n",
    "plt.title('ROI by Movie Budget Adjusted for inflation')\n",
    "plt.ylabel(\"ROI Adjusted for Inflation\")\n",
    "plt.xlabel(\"Budget Adjusted for Inflation\")"
   ]
  },
  {
   "cell_type": "code",
   "execution_count": 44,
   "metadata": {},
   "outputs": [
    {
     "data": {
      "text/plain": [
       "Text(0.5,0,'Budget Adjusted for Inflation')"
      ]
     },
     "execution_count": 44,
     "metadata": {},
     "output_type": "execute_result"
    },
    {
     "data": {
      "image/png": "[encoded data removed]",
      "text/plain": [
       "<Figure size 432x288 with 1 Axes>"
      ]
     },
     "metadata": {
      "needs_background": "light"
     },
     "output_type": "display_data"
    }
   ],
   "source": [
    "# There are quite a few outliers that make visualizing this difficult. We remove any movie with over a 100x ROI from\n",
    "# the dataset.\n",
    "df = df.query('roi <= 100')\n",
    "df.plot(x='budget_adj', y='roi', kind='scatter')\n",
    "plt.title('ROI by Movie Budget Adjusted for inflation')\n",
    "plt.ylabel(\"ROI Adjusted for Inflation\")\n",
    "plt.xlabel(\"Budget Adjusted for Inflation\")"
   ]
  },
  {
   "cell_type": "markdown",
   "metadata": {},
   "source": [
    "The above chart shows the relationship between a movie's budget and a movie's ROI. There appears to be a negative correlation between the two variables. "
   ]
  },
  {
   "cell_type": "markdown",
   "metadata": {},
   "source": [
    "### What relationship does a movie's average voting score have on ROI?"
   ]
  },
  {
   "cell_type": "code",
   "execution_count": 45,
   "metadata": {},
   "outputs": [
    {
     "data": {
      "text/plain": [
       "Text(0.5,0,'Vote Average')"
      ]
     },
     "execution_count": 45,
     "metadata": {},
     "output_type": "execute_result"
    },
    {
     "data": {
      "image/png": "[encoded data removed]",
      "text/plain": [
       "<Figure size 432x288 with 1 Axes>"
      ]
     },
     "metadata": {
      "needs_background": "light"
     },
     "output_type": "display_data"
    }
   ],
   "source": [
    "df['vote_average'].hist()\n",
    "plt.title('Distribution of Vote Average')\n",
    "plt.ylabel(\"# of movies\")\n",
    "plt.xlabel(\"Vote Average\")"
   ]
  },
  {
   "cell_type": "code",
   "execution_count": null,
   "metadata": {},
   "outputs": [],
   "source": []
  },
  {
   "cell_type": "markdown",
   "metadata": {},
   "source": [
    "The above chart plots the distribution of vote average for movies. The distribution looks very close to a normal distribution. The average appears to be somewhere around 6 - 6.5 and the majority of movies receive a in the range of 4.5 - 8. Interestingly, no movies have above an 8.5 or below a 2.5."
   ]
  },
  {
   "cell_type": "code",
   "execution_count": 46,
   "metadata": {},
   "outputs": [
    {
     "data": {
      "text/plain": [
       "Text(0.5,0,'Vote Average')"
      ]
     },
     "execution_count": 46,
     "metadata": {},
     "output_type": "execute_result"
    },
    {
     "data": {
      "image/png": "[encoded data removed]",
      "text/plain": [
       "<Figure size 432x288 with 1 Axes>"
      ]
     },
     "metadata": {
      "needs_background": "light"
     },
     "output_type": "display_data"
    }
   ],
   "source": [
    "df.plot(x='vote_average', y='roi', kind='scatter')\n",
    "plt.title('ROI by movie vote average')\n",
    "plt.ylabel(\"ROI Adjust for Inflation\")\n",
    "plt.xlabel(\"Vote Average\")"
   ]
  },
  {
   "cell_type": "markdown",
   "metadata": {},
   "source": [
    "The above chart shows the relationship between a movie's revenue and a movie's ROI. There appears to be a positive correlation between the two variables. "
   ]
  },
  {
   "cell_type": "markdown",
   "metadata": {},
   "source": [
    "## Conclusions\n",
    "\n",
    "> Below is a summary of some thoughts based on our research questions and subsequest analysis posed above. Please keep in mind that all of the findings below are tentative and not conclusive.\n",
    "\n",
    "> Limitations: Our dataset is not perfect and there were some limitations that may have impacted the analysis and our ability to get clear results. (1) Sample size - As we sliced our data, we had to deal with smaller sample sizes which can cause our results to not be represenative of the population. (2) The dataset contained ~1,000 records with null values which we dropped from the data. (3) The dataset also contained missing data (displayed as 0s) for our budgets and revenues which encompassed ~7,000 records. (2) and (3) heavily contributed to our ability to have data that more accurately represented the population as we dropped most of those records in the cleaning process. It's possible that those 7,000 records weren't evenly distributed among all of our dimensions which could've heavily skewed our analysis.\n",
    "\n",
    "> Which genres have the highest roi? -- There appears to be some difference in ROI among different movie genres. Our highest ROI genre has a ~100% better ROI and our worst two performing genres. Note: these measures could be skewed due to outliers. If we were to analyze this relationship further, it'd be interesting to control for budget & voting average (our two variable explored below).\n",
    "\n",
    "> What relationship does a movie's budget size have on ROI? -- There appears to be an negative correlation between a movie's budget and its ROI. All of the movies with 30x+ ROI are on the lower end of the budget axis and all of the movies on the higher end of the budget axis have below a 10x ROI. It's likely the case that movies with high budgets are unlikely to have an extraordinarily high ROI because it would require them to receive an almost unrealistic amount of demand. The reverse is true of movies with low budgets. Althouhg it is very unlikely for them to hit a 30x+ return it is realistic given the size of the movie market.\n",
    "\n",
    "> What relationship does a movie's average voting score have on ROI? -- There looks to be a positive correlation between a movie's vote average and its ROI. We see a much larger number of movies with a 15x+ ROI having a vote average in the 6+ range. It inuitively make sense that these might be correlated given that a movie that user's perceive to be of high quality adds more of an incentive to go watch the movie in theatres."
   ]
  }
 ],
 "metadata": {
  "kernelspec": {
   "display_name": "Python 2",
   "language": "python",
   "name": "python2"
  },
  "language_info": {
   "codemirror_mode": {
    "name": "ipython",
    "version": 2
   },
   "file_extension": ".py",
   "mimetype": "text/x-python",
   "name": "python",
   "nbconvert_exporter": "python",
   "pygments_lexer": "ipython2",
   "version": "2.7.10"
  }
 },
 "nbformat": 4,
 "nbformat_minor": 2
}
